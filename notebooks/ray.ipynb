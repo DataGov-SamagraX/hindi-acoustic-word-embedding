{
 "cells": [
  {
   "cell_type": "code",
   "execution_count": 1,
   "metadata": {},
   "outputs": [],
   "source": [
    "import ray \n",
    "import Levenshtein\n",
    "import pandas as pd \n",
    "import numpy as np "
   ]
  },
  {
   "cell_type": "code",
   "execution_count": 2,
   "metadata": {},
   "outputs": [
    {
     "name": "stderr",
     "output_type": "stream",
     "text": [
      "2024-07-10 08:37:05,807\tINFO worker.py:1762 -- Started a local Ray instance. View the dashboard at \u001b[1m\u001b[32mhttp://127.0.0.1:8265 \u001b[39m\u001b[22m\n"
     ]
    },
    {
     "data": {
      "application/vnd.jupyter.widget-view+json": {
       "model_id": "540c630acc874141b171c5b7a1e3526f",
       "version_major": 2,
       "version_minor": 0
      },
      "text/html": [
       "<div class=\"lm-Widget p-Widget lm-Panel p-Panel jp-Cell-outputWrapper\">\n",
       "    <div style=\"margin-left: 50px;display: flex;flex-direction: row;align-items: center\">\n",
       "        <div class=\"jp-RenderedHTMLCommon\" style=\"display: flex; flex-direction: row;\">\n",
       "  <svg viewBox=\"0 0 567 224\" fill=\"none\" xmlns=\"http://www.w3.org/2000/svg\" style=\"height: 3em;\">\n",
       "    <g clip-path=\"url(#clip0_4338_178347)\">\n",
       "        <path d=\"M341.29 165.561H355.29L330.13 129.051C345.63 123.991 354.21 112.051 354.21 94.2307C354.21 71.3707 338.72 58.1807 311.88 58.1807H271V165.561H283.27V131.661H311.8C314.25 131.661 316.71 131.501 319.01 131.351L341.25 165.561H341.29ZM283.29 119.851V70.0007H311.82C331.3 70.0007 342.34 78.2907 342.34 94.5507C342.34 111.271 331.34 119.861 311.82 119.861L283.29 119.851ZM451.4 138.411L463.4 165.561H476.74L428.74 58.1807H416L367.83 165.561H380.83L392.83 138.411H451.4ZM446.19 126.601H398L422 72.1407L446.24 126.601H446.19ZM526.11 128.741L566.91 58.1807H554.35L519.99 114.181L485.17 58.1807H472.44L514.01 129.181V165.541H526.13V128.741H526.11Z\" fill=\"var(--jp-ui-font-color0)\"/>\n",
       "        <path d=\"M82.35 104.44C84.0187 97.8827 87.8248 92.0678 93.1671 87.9146C98.5094 83.7614 105.083 81.5067 111.85 81.5067C118.617 81.5067 125.191 83.7614 130.533 87.9146C135.875 92.0678 139.681 97.8827 141.35 104.44H163.75C164.476 101.562 165.622 98.8057 167.15 96.2605L127.45 56.5605C121.071 60.3522 113.526 61.6823 106.235 60.3005C98.9443 58.9187 92.4094 54.9203 87.8602 49.0574C83.3109 43.1946 81.0609 35.8714 81.5332 28.4656C82.0056 21.0599 85.1679 14.0819 90.4252 8.8446C95.6824 3.60726 102.672 0.471508 110.08 0.0272655C117.487 -0.416977 124.802 1.86091 130.647 6.4324C136.493 11.0039 140.467 17.5539 141.821 24.8501C143.175 32.1463 141.816 39.6859 138 46.0505L177.69 85.7505C182.31 82.9877 187.58 81.4995 192.962 81.4375C198.345 81.3755 203.648 82.742 208.33 85.3976C213.012 88.0532 216.907 91.9029 219.616 96.5544C222.326 101.206 223.753 106.492 223.753 111.875C223.753 117.258 222.326 122.545 219.616 127.197C216.907 131.848 213.012 135.698 208.33 138.353C203.648 141.009 198.345 142.375 192.962 142.313C187.58 142.251 182.31 140.763 177.69 138L138 177.7C141.808 184.071 143.155 191.614 141.79 198.91C140.424 206.205 136.44 212.75 130.585 217.313C124.731 221.875 117.412 224.141 110.004 223.683C102.596 223.226 95.6103 220.077 90.3621 214.828C85.1139 209.58 81.9647 202.595 81.5072 195.187C81.0497 187.779 83.3154 180.459 87.878 174.605C92.4405 168.751 98.9853 164.766 106.281 163.401C113.576 162.035 121.119 163.383 127.49 167.19L167.19 127.49C165.664 124.941 164.518 122.182 163.79 119.3H141.39C139.721 125.858 135.915 131.673 130.573 135.826C125.231 139.98 118.657 142.234 111.89 142.234C105.123 142.234 98.5494 139.98 93.2071 135.826C87.8648 131.673 84.0587 125.858 82.39 119.3H60C58.1878 126.495 53.8086 132.78 47.6863 136.971C41.5641 141.163 34.1211 142.972 26.7579 142.059C19.3947 141.146 12.6191 137.574 7.70605 132.014C2.79302 126.454 0.0813599 119.29 0.0813599 111.87C0.0813599 104.451 2.79302 97.2871 7.70605 91.7272C12.6191 86.1673 19.3947 82.5947 26.7579 81.6817C34.1211 80.7686 41.5641 82.5781 47.6863 86.7696C53.8086 90.9611 58.1878 97.2456 60 104.44H82.35ZM100.86 204.32C103.407 206.868 106.759 208.453 110.345 208.806C113.93 209.159 117.527 208.258 120.522 206.256C123.517 204.254 125.725 201.276 126.771 197.828C127.816 194.38 127.633 190.677 126.253 187.349C124.874 184.021 122.383 181.274 119.205 179.577C116.027 177.88 112.359 177.337 108.826 178.042C105.293 178.746 102.113 180.654 99.8291 183.44C97.5451 186.226 96.2979 189.718 96.3 193.32C96.2985 195.364 96.7006 197.388 97.4831 199.275C98.2656 201.163 99.4132 202.877 100.86 204.32ZM204.32 122.88C206.868 120.333 208.453 116.981 208.806 113.396C209.159 109.811 208.258 106.214 206.256 103.219C204.254 100.223 201.275 98.0151 197.827 96.97C194.38 95.9249 190.676 96.1077 187.348 97.4873C184.02 98.8669 181.274 101.358 179.577 104.536C177.879 107.714 177.337 111.382 178.041 114.915C178.746 118.448 180.653 121.627 183.439 123.911C186.226 126.195 189.717 127.443 193.32 127.44C195.364 127.443 197.388 127.042 199.275 126.259C201.163 125.476 202.878 124.328 204.32 122.88ZM122.88 19.4205C120.333 16.8729 116.981 15.2876 113.395 14.9347C109.81 14.5817 106.213 15.483 103.218 17.4849C100.223 19.4868 98.0146 22.4654 96.9696 25.9131C95.9245 29.3608 96.1073 33.0642 97.4869 36.3922C98.8665 39.7202 101.358 42.4668 104.535 44.1639C107.713 45.861 111.381 46.4036 114.914 45.6992C118.447 44.9949 121.627 43.0871 123.911 40.301C126.195 37.515 127.442 34.0231 127.44 30.4205C127.44 28.3772 127.038 26.3539 126.255 24.4664C125.473 22.5788 124.326 20.8642 122.88 19.4205ZM19.42 100.86C16.8725 103.408 15.2872 106.76 14.9342 110.345C14.5813 113.93 15.4826 117.527 17.4844 120.522C19.4863 123.518 22.4649 125.726 25.9127 126.771C29.3604 127.816 33.0638 127.633 36.3918 126.254C39.7198 124.874 42.4664 122.383 44.1635 119.205C45.8606 116.027 46.4032 112.359 45.6988 108.826C44.9944 105.293 43.0866 102.114 40.3006 99.8296C37.5145 97.5455 34.0227 96.2983 30.42 96.3005C26.2938 96.3018 22.337 97.9421 19.42 100.86ZM100.86 100.86C98.3125 103.408 96.7272 106.76 96.3742 110.345C96.0213 113.93 96.9226 117.527 98.9244 120.522C100.926 123.518 103.905 125.726 107.353 126.771C110.8 127.816 114.504 127.633 117.832 126.254C121.16 124.874 123.906 122.383 125.604 119.205C127.301 116.027 127.843 112.359 127.139 108.826C126.434 105.293 124.527 102.114 121.741 99.8296C118.955 97.5455 115.463 96.2983 111.86 96.3005C109.817 96.299 107.793 96.701 105.905 97.4835C104.018 98.2661 102.303 99.4136 100.86 100.86Z\" fill=\"#00AEEF\"/>\n",
       "    </g>\n",
       "    <defs>\n",
       "        <clipPath id=\"clip0_4338_178347\">\n",
       "            <rect width=\"566.93\" height=\"223.75\" fill=\"white\"/>\n",
       "        </clipPath>\n",
       "    </defs>\n",
       "  </svg>\n",
       "</div>\n",
       "\n",
       "        <table class=\"jp-RenderedHTMLCommon\" style=\"border-collapse: collapse;color: var(--jp-ui-font-color1);font-size: var(--jp-ui-font-size1);\">\n",
       "    <tr>\n",
       "        <td style=\"text-align: left\"><b>Python version:</b></td>\n",
       "        <td style=\"text-align: left\"><b>3.11.7</b></td>\n",
       "    </tr>\n",
       "    <tr>\n",
       "        <td style=\"text-align: left\"><b>Ray version:</b></td>\n",
       "        <td style=\"text-align: left\"><b>2.31.0</b></td>\n",
       "    </tr>\n",
       "    <tr>\n",
       "    <td style=\"text-align: left\"><b>Dashboard:</b></td>\n",
       "    <td style=\"text-align: left\"><b><a href=\"http://127.0.0.1:8265\" target=\"_blank\">http://127.0.0.1:8265</a></b></td>\n",
       "</tr>\n",
       "\n",
       "</table>\n",
       "\n",
       "    </div>\n",
       "</div>\n"
      ],
      "text/plain": [
       "RayContext(dashboard_url='127.0.0.1:8265', python_version='3.11.7', ray_version='2.31.0', ray_commit='1240d3fc326517f9be28bb7897c1c88619f0d984')"
      ]
     },
     "execution_count": 2,
     "metadata": {},
     "output_type": "execute_result"
    }
   ],
   "source": [
    "if ray.is_initialized():\n",
    "    ray.shutdown()\n",
    "ray.init()"
   ]
  },
  {
   "cell_type": "code",
   "execution_count": 3,
   "metadata": {},
   "outputs": [
    {
     "data": {
      "text/plain": [
       "{'node:192.168.4.4': 1.0,\n",
       " 'node:__internal_head__': 1.0,\n",
       " 'CPU': 8.0,\n",
       " 'memory': 10726979175.0,\n",
       " 'object_store_memory': 5363489587.0,\n",
       " 'accelerator_type:T4': 1.0,\n",
       " 'GPU': 1.0}"
      ]
     },
     "execution_count": 3,
     "metadata": {},
     "output_type": "execute_result"
    }
   ],
   "source": [
    "ray.cluster_resources()"
   ]
  },
  {
   "cell_type": "code",
   "execution_count": 4,
   "metadata": {},
   "outputs": [],
   "source": [
    "import os \n",
    "root_path='/home/ubuntu/acoustic_stuff/hindi-acoustic-word-embedding/dataset/train_aligned_dataset'\n",
    "csv_file=os.path.join(root_path,'train_reduced_data.csv')\n",
    "ds=ray.data.read_csv(csv_file)\n"
   ]
  },
  {
   "cell_type": "code",
   "execution_count": 5,
   "metadata": {},
   "outputs": [
    {
     "name": "stderr",
     "output_type": "stream",
     "text": [
      "2024-07-10 08:37:39,967\tINFO streaming_executor.py:108 -- Starting execution of Dataset. Full logs are in /tmp/ray/session_2024-07-10_08-37-02_160065_600347/logs/ray-data\n",
      "2024-07-10 08:37:39,968\tINFO streaming_executor.py:109 -- Execution plan of Dataset: InputDataBuffer[Input] -> TaskPoolMapOperator[ReadCSV]\n"
     ]
    },
    {
     "data": {
      "application/vnd.jupyter.widget-view+json": {
       "model_id": "582a2881d3d348c8aa1552fa0eb74584",
       "version_major": 2,
       "version_minor": 0
      },
      "text/plain": [
       "- ReadCSV->SplitBlocks(16) 1:   0%|          | 0/1 [00:00<?, ?it/s]"
      ]
     },
     "metadata": {},
     "output_type": "display_data"
    },
    {
     "data": {
      "application/vnd.jupyter.widget-view+json": {
       "model_id": "04bc941624c3442bb827af619e2176df",
       "version_major": 2,
       "version_minor": 0
      },
      "text/plain": [
       "Running 0:   0%|          | 0/1 [00:00<?, ?it/s]"
      ]
     },
     "metadata": {},
     "output_type": "display_data"
    }
   ],
   "source": [
    "df=ds.to_pandas()"
   ]
  },
  {
   "cell_type": "code",
   "execution_count": 34,
   "metadata": {},
   "outputs": [],
   "source": [
    "import random\n",
    "\n",
    "#@ray.remote\n",
    "def sample_different_transcript(row,all_transcripts,audio_dict):\n",
    "    original_transcript = row[1][3]\n",
    "    other_transcripts = [t for t in all_transcripts if t != original_transcript]\n",
    "    new_transcript = random.choice(other_transcripts)\n",
    "    audio_path=random.choice(audio_dict[new_transcript])\n",
    "    return (new_transcript,audio_path)"
   ]
  },
  {
   "cell_type": "code",
   "execution_count": 21,
   "metadata": {},
   "outputs": [],
   "source": [
    "audio_dict = df.groupby('transcript')['audio_path'].apply(list).to_dict()\n"
   ]
  },
  {
   "cell_type": "code",
   "execution_count": 18,
   "metadata": {},
   "outputs": [
    {
     "name": "stdout",
     "output_type": "stream",
     "text": [
      "यूराल\n"
     ]
    },
    {
     "name": "stderr",
     "output_type": "stream",
     "text": [
      "/tmp/ipykernel_600347/2520510720.py:2: FutureWarning: Series.__getitem__ treating keys as positions is deprecated. In a future version, integer keys will always be treated as labels (consistent with DataFrame behavior). To access a value by position, use `ser.iloc[pos]`\n",
      "  print(row[1][3])\n"
     ]
    }
   ],
   "source": [
    "for row in sample_df.iterrows():\n",
    "    print(row[1][3])\n",
    "    break"
   ]
  },
  {
   "cell_type": "code",
   "execution_count": 35,
   "metadata": {},
   "outputs": [
    {
     "name": "stderr",
     "output_type": "stream",
     "text": [
      "/tmp/ipykernel_600347/1879518816.py:5: FutureWarning: Series.__getitem__ treating keys as positions is deprecated. In a future version, integer keys will always be treated as labels (consistent with DataFrame behavior). To access a value by position, use `ser.iloc[pos]`\n",
      "  original_transcript = row[1][3]\n"
     ]
    },
    {
     "name": "stdout",
     "output_type": "stream",
     "text": [
      "41.375341176986694\n"
     ]
    }
   ],
   "source": [
    "import time \n",
    "all_transcripts = df['transcript'].unique().tolist()\n",
    "audio_dict = df.groupby('transcript')['audio_path'].apply(list).to_dict()\n",
    "#sample_df=df.head(1000)\n",
    "#test_df=df.head(2000)\n",
    "\n",
    "start=time.time()\n",
    "#row_objects = [sample_different_transcript.remote(row, all_transcripts=all_transcripts,audio_dict=audio_dict) for _, row in sample_df.iterrows()]\n",
    "row_objects=[sample_different_transcript(row,all_transcripts=all_transcripts,audio_dict=audio_dict) for row in df.iterrows()]\n",
    "end=time.time()\n",
    "\n",
    "print(end-start)\n",
    "#results = ray.get(row_objects)"
   ]
  },
  {
   "cell_type": "code",
   "execution_count": 36,
   "metadata": {},
   "outputs": [],
   "source": [
    "df['negative_samples']=row_objects"
   ]
  },
  {
   "cell_type": "code",
   "execution_count": 42,
   "metadata": {},
   "outputs": [
    {
     "data": {
      "text/plain": [
       "'844424931008282-142-m_seg_3.wav'"
      ]
     },
     "execution_count": 42,
     "metadata": {},
     "output_type": "execute_result"
    }
   ],
   "source": [
    "df['negative_samples'][0][1]"
   ]
  },
  {
   "cell_type": "code",
   "execution_count": 45,
   "metadata": {},
   "outputs": [],
   "source": [
    "dir_name=os.path.dirname(csv_file)\n",
    "audio_path=os.path.join(dir_name,'844424931008282-142-m_seg_3.wav')"
   ]
  },
  {
   "cell_type": "code",
   "execution_count": 46,
   "metadata": {},
   "outputs": [
    {
     "data": {
      "text/html": [
       "\n",
       "                <audio  controls=\"controls\" >\n",
       "                    <source src=\"data:audio/x-wav;base64,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\" type=\"audio/x-wav\" />\n",
       "                    Your browser does not support the audio element.\n",
       "                </audio>\n",
       "              "
      ],
      "text/plain": [
       "<IPython.lib.display.Audio object>"
      ]
     },
     "execution_count": 46,
     "metadata": {},
     "output_type": "execute_result"
    }
   ],
   "source": [
    "import IPython\n",
    "import IPython.display\n",
    "IPython.display.Audio(audio_path,rate=8000)"
   ]
  },
  {
   "cell_type": "code",
   "execution_count": null,
   "metadata": {},
   "outputs": [],
   "source": [
    "# Create a new DataFrame with the results\n",
    "new_df = pd.DataFrame(results, columns=['audio_path', 'new_transcript'])\n",
    "\n",
    "# Shutdown Ray\n",
    "ray.shutdown()\n",
    "\n",
    "# Save the new DataFrame\n",
    "new_df.to_csv('sampled_dataset.csv', index=False)"
   ]
  },
  {
   "cell_type": "code",
   "execution_count": 47,
   "metadata": {},
   "outputs": [],
   "source": [
    "def sample_negative_transcript(curr_transcript,all_transcripts,audio_dict):\n",
    "    other_transcripts = [t for t in all_transcripts if t != curr_transcript]\n",
    "    new_transcript = random.choice(other_transcripts)\n",
    "    audio_path=random.choice(audio_dict[new_transcript])\n",
    "    return (new_transcript,audio_path)\n",
    "\n",
    "\n",
    "def sample_negative(csv_file):\n",
    "    if isinstance(csv_file,str):\n",
    "        df=pd.read_csv(csv_file)\n",
    "    else:\n",
    "        df=csv_file\n",
    "    \n",
    "    transcripts = df['transcript'].unique().tolist()\n",
    "    audio_dict = df.groupby('transcript')['audio_path'].apply(list).to_dict()\n",
    "    curr_transcripts=df['transcript'].tolist()\n",
    "\n",
    "    negatives=[sample_negative_transcript(cur_transcript,transcripts,audio_dict) for cur_transcript in curr_transcripts]\n",
    "\n",
    "    df['negative_samples']=negatives\n",
    "\n",
    "    df.to_csv(csv_file)\n",
    "\n",
    "    print(\"Sampling Complete\")\n",
    "    \n"
   ]
  },
  {
   "cell_type": "code",
   "execution_count": 48,
   "metadata": {},
   "outputs": [
    {
     "name": "stdout",
     "output_type": "stream",
     "text": [
      "Sampling Complete\n"
     ]
    }
   ],
   "source": [
    "sample_negative(csv_file)"
   ]
  },
  {
   "cell_type": "code",
   "execution_count": 49,
   "metadata": {},
   "outputs": [],
   "source": [
    "df=pd.read_csv(csv_file)"
   ]
  },
  {
   "cell_type": "code",
   "execution_count": 50,
   "metadata": {},
   "outputs": [
    {
     "data": {
      "text/html": [
       "<div>\n",
       "<style scoped>\n",
       "    .dataframe tbody tr th:only-of-type {\n",
       "        vertical-align: middle;\n",
       "    }\n",
       "\n",
       "    .dataframe tbody tr th {\n",
       "        vertical-align: top;\n",
       "    }\n",
       "\n",
       "    .dataframe thead th {\n",
       "        text-align: right;\n",
       "    }\n",
       "</style>\n",
       "<table border=\"1\" class=\"dataframe\">\n",
       "  <thead>\n",
       "    <tr style=\"text-align: right;\">\n",
       "      <th></th>\n",
       "      <th>Unnamed: 0.2</th>\n",
       "      <th>Unnamed: 0.1</th>\n",
       "      <th>Unnamed: 0</th>\n",
       "      <th>audio_path</th>\n",
       "      <th>transcript</th>\n",
       "      <th>duration</th>\n",
       "      <th>negative_samples</th>\n",
       "    </tr>\n",
       "  </thead>\n",
       "  <tbody>\n",
       "    <tr>\n",
       "      <th>0</th>\n",
       "      <td>0</td>\n",
       "      <td>912</td>\n",
       "      <td>1062</td>\n",
       "      <td>844424933477212-934-m_seg_5.wav</td>\n",
       "      <td>यूराल</td>\n",
       "      <td>3.367-3.848 sec</td>\n",
       "      <td>('ठिकाने', '844424931109777-458-f_seg_4.wav')</td>\n",
       "    </tr>\n",
       "    <tr>\n",
       "      <th>1</th>\n",
       "      <td>1</td>\n",
       "      <td>36991</td>\n",
       "      <td>42694</td>\n",
       "      <td>844424931090773-590-f_seg_0.wav</td>\n",
       "      <td>साहित्य</td>\n",
       "      <td>0.000-1.452 sec</td>\n",
       "      <td>('सौ', '844424933459745-558-m_seg_2.wav')</td>\n",
       "    </tr>\n",
       "    <tr>\n",
       "      <th>2</th>\n",
       "      <td>2</td>\n",
       "      <td>65036</td>\n",
       "      <td>73828</td>\n",
       "      <td>844424930995811-736-f_seg_4.wav</td>\n",
       "      <td>भोरंज</td>\n",
       "      <td>2.336-2.859 sec</td>\n",
       "      <td>('कहनेवाला', '844424930949679-736-f_seg_5.wav')</td>\n",
       "    </tr>\n",
       "    <tr>\n",
       "      <th>3</th>\n",
       "      <td>3</td>\n",
       "      <td>13011</td>\n",
       "      <td>15176</td>\n",
       "      <td>844424930673861-252-f_seg_0.wav</td>\n",
       "      <td>अग्रोहा</td>\n",
       "      <td>0.000-1.283 sec</td>\n",
       "      <td>('परिजनों', '844424932430432-384-f_seg_4.wav')</td>\n",
       "    </tr>\n",
       "    <tr>\n",
       "      <th>4</th>\n",
       "      <td>4</td>\n",
       "      <td>61260</td>\n",
       "      <td>69715</td>\n",
       "      <td>844424933463461-572-m_seg_3.wav</td>\n",
       "      <td>राष्ट्रीय</td>\n",
       "      <td>2.727-3.650 sec</td>\n",
       "      <td>('येरवडा', '844424933545620-1179-m_seg_5.wav')</td>\n",
       "    </tr>\n",
       "  </tbody>\n",
       "</table>\n",
       "</div>"
      ],
      "text/plain": [
       "   Unnamed: 0.2  Unnamed: 0.1  Unnamed: 0                       audio_path  \\\n",
       "0             0           912        1062  844424933477212-934-m_seg_5.wav   \n",
       "1             1         36991       42694  844424931090773-590-f_seg_0.wav   \n",
       "2             2         65036       73828  844424930995811-736-f_seg_4.wav   \n",
       "3             3         13011       15176  844424930673861-252-f_seg_0.wav   \n",
       "4             4         61260       69715  844424933463461-572-m_seg_3.wav   \n",
       "\n",
       "  transcript         duration                                 negative_samples  \n",
       "0      यूराल  3.367-3.848 sec    ('ठिकाने', '844424931109777-458-f_seg_4.wav')  \n",
       "1    साहित्य  0.000-1.452 sec        ('सौ', '844424933459745-558-m_seg_2.wav')  \n",
       "2      भोरंज  2.336-2.859 sec  ('कहनेवाला', '844424930949679-736-f_seg_5.wav')  \n",
       "3    अग्रोहा  0.000-1.283 sec   ('परिजनों', '844424932430432-384-f_seg_4.wav')  \n",
       "4  राष्ट्रीय  2.727-3.650 sec   ('येरवडा', '844424933545620-1179-m_seg_5.wav')  "
      ]
     },
     "execution_count": 50,
     "metadata": {},
     "output_type": "execute_result"
    }
   ],
   "source": [
    "df.head()"
   ]
  },
  {
   "cell_type": "code",
   "execution_count": null,
   "metadata": {},
   "outputs": [],
   "source": []
  }
 ],
 "metadata": {
  "kernelspec": {
   "display_name": "venv",
   "language": "python",
   "name": "python3"
  },
  "language_info": {
   "codemirror_mode": {
    "name": "ipython",
    "version": 3
   },
   "file_extension": ".py",
   "mimetype": "text/x-python",
   "name": "python",
   "nbconvert_exporter": "python",
   "pygments_lexer": "ipython3",
   "version": "3.11.7"
  }
 },
 "nbformat": 4,
 "nbformat_minor": 2
}
