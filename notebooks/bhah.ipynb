{
 "cells": [
  {
   "cell_type": "code",
   "execution_count": 59,
   "metadata": {},
   "outputs": [],
   "source": [
    "import numpy as np \n",
    "import os \n",
    "import torch \n",
    "from utils import _load_vocab\n",
    "from torch.utils.data import Dataset,DataLoader\n",
    "import librosa\n",
    "import numpy as np \n",
    "import pandas as pd \n",
    "import librosa.display\n",
    "import ast \n",
    "from sampler import edit_distance\n",
    "from abc import ABC,abstractmethod\n",
    "\n",
    "\n",
    "VOCAB_DICT=_load_vocab()\n",
    "\n",
    "# Dataloader class\n",
    "class MultiViewDataset(Dataset,ABC):\n",
    "    def __init__(self, csv_file,max_mfcc_len,n_mfcc=13):\n",
    "        self.data=pd.read_csv(csv_file)\n",
    "        self.dir_path=os.path.dirname(csv_file)\n",
    "        self.vocab_dict=VOCAB_DICT\n",
    "        self.n_mfcc=n_mfcc\n",
    "        self.max_mfcc_len=max_mfcc_len\n",
    "\n",
    "    def __len__(self):\n",
    "        return len(self.data)\n",
    "    \n",
    "    def char_to_idx(self, transcript):\n",
    "        one_hot = torch.zeros(len(transcript), len(self.vocab_dict))\n",
    "        for i, char in enumerate(transcript):\n",
    "            one_hot[i, self.vocab_dict[char]] = 1\n",
    "        return one_hot\n",
    "    \n",
    "    def compute_mfcc(self, audio_path):\n",
    "        y, sr = librosa.load(audio_path)\n",
    "        n_fft = min(2048, len(y))\n",
    "        hop_length = n_fft // 4\n",
    "\n",
    "        mfccs = librosa.feature.mfcc(y=y, sr=sr, \n",
    "                                     n_mfcc=self.n_mfcc, \n",
    "                                     n_fft=n_fft, \n",
    "                                     hop_length=hop_length)\n",
    "\n",
    "        width = min(9, mfccs.shape[1])\n",
    "        if width < 3:\n",
    "            width = 3\n",
    "        \n",
    "        width = min(width, mfccs.shape[1])\n",
    "\n",
    "        if width % 2 == 0:\n",
    "            width -= 1\n",
    "\n",
    "        delta1 = librosa.feature.delta(mfccs, order=1, width=width)\n",
    "        delta2 = librosa.feature.delta(mfccs, order=2, width=width)\n",
    "\n",
    "        mfccs_combined = np.concatenate((mfccs, delta1, delta2), axis=0)\n",
    "        return mfccs_combined\n",
    "    \n",
    "    @abstractmethod\n",
    "    def __getitem__(self, idx):\n",
    "        pass\n",
    "\n",
    "class MultiViewTrainDataset(MultiViewDataset):\n",
    "    def __init__(self,csv_file,loss_fn,max_mfcc_len,n_mfcc=13):\n",
    "        super().__init__(csv_file, max_mfcc_len=max_mfcc_len,n_mfcc=n_mfcc)\n",
    "        self.loss_fn=loss_fn\n",
    "    \n",
    "    def __getitem__(self,idx):\n",
    "        \n",
    "        audio_path_x1=self.data[\"audio_path\"][idx]\n",
    "        audio_path_x1=os.path.join(self.dir_path,str(audio_path_x1))\n",
    "        transcript_c1=self.data[\"transcript\"][idx]\n",
    "\n",
    "        sample_list=ast.literal_eval(self.data[\"negative_samples\"][idx])\n",
    "        \n",
    "        one_hot_c2=None\n",
    "        if 0 in self.loss_fn or 1 in self.loss_fn:\n",
    "            transcript_c2=sample_list[0]\n",
    "            one_hot_c2=self.char_to_idx(transcript_c2)\n",
    "            lev_distance=edit_distance(transcript_c1,transcript_c2)\n",
    "        \n",
    "        mfccs_x2=None\n",
    "        if 2 in self.loss_fn or 3 in self.loss_fn:\n",
    "            audio_path_x2=sample_list[1]\n",
    "            audio_path_x2=os.path.join(self.dir_path,str(audio_path_x2))\n",
    "\n",
    "            mfccs_x2=self.compute_mfcc(audio_path_x2)\n",
    "        \n",
    "        #computing mfcc\n",
    "        mfcc_x1=self.compute_mfcc(audio_path_x1) \n",
    "        \n",
    "        #computiing one hot for transcript \n",
    "        one_hot_c1=self.char_to_idx(transcript_c1)\n",
    "\n",
    "        output_tensors= [torch.tensor(mfcc_x1), one_hot_c1]\n",
    "\n",
    "        if 0 in self.loss_fn or 1 in self.loss_fn:\n",
    "            output_tensors.append(one_hot_c2)\n",
    "            output_tensors.append(lev_distance)\n",
    "    \n",
    "        if 2 in self.loss_fn or 3 in self.loss_fn:\n",
    "            output_tensors.append(torch.tensor(mfccs_x2))\n",
    "    \n",
    "        return output_tensors\n",
    "\n",
    "class MultiViewDevDataset(MultiViewDataset):\n",
    "    def __init__(self,csv_file,max_mfcc_len,n_mfcc=13):\n",
    "        super().__init__(csv_file,max_mfcc_len=max_mfcc_len,n_mfcc=n_mfcc)\n",
    "    \n",
    "    def __getitem__(self,idx):\n",
    "        \n",
    "        audio_path_x1=self.data[\"audio_path\"][idx]\n",
    "        audio_path_x1=os.path.join(self.dir_path,str(audio_path_x1))\n",
    "\n",
    "        #mfcc \n",
    "        audio_mfcc=self.compute_mfcc(audio_path_x1)\n",
    "\n",
    "        sample_dict=ast.literal_eval(self.data[\"sampled_words\"][idx])\n",
    "        lev_scores=[]\n",
    "        for score in sample_dict.keys():\n",
    "            for _ in range(len(sample_dict[score])):\n",
    "                lev_scores.append(score)\n",
    "\n",
    "        one_hot=[]\n",
    "        for transcripts in sample_dict.values():\n",
    "            for transcript in transcripts:\n",
    "                one_hot.append(self.char_to_idx(transcript))\n",
    "        \n",
    "        one_hot_c1=self.char_to_idx(self.data['transcript'][idx])\n",
    "\n",
    "        #sampling negative\n",
    "        one_hot_c2=self.char_to_idx(ast.literal_eval(self.data[\"negative_samples\"][idx])[0])\n",
    "        audio_path_x2=ast.literal_eval(self.data[\"negative_samples\"][idx])[1]\n",
    "        audio_path_x2=os.path.join(self.dir_path,str(audio_path_x2))\n",
    "        mfcc_x2=self.compute_mfcc(audio_path_x2)\n",
    "        \n",
    "        output_tensor=[torch.tensor(audio_mfcc),one_hot,\n",
    "                       torch.tensor(lev_scores),one_hot_c1,one_hot_c2,\n",
    "                       torch.tensor(mfcc_x2)]\n",
    "\n",
    "        return output_tensor\n",
    "\n",
    "# colate functions \n",
    "def train_collate_fn(batch,max_mfcc_len):\n",
    "\n",
    "    mfccs_x1= []\n",
    "    one_hot_c1=[]\n",
    "    one_hot_c2=[]\n",
    "    mfccs_x2=[]\n",
    "    lev_distances=[]\n",
    "\n",
    "    for item in batch:\n",
    "        mfcc_x1,oh_c1 = item[0], item[1]\n",
    "        mfccs_x1.append(mfcc_x1)\n",
    "        one_hot_c1.append(oh_c1)\n",
    "\n",
    "        if len(item) == 5:\n",
    "            oh_c2,lev_distance,mfcc_x2= item[2], item[3],item[4]\n",
    "            one_hot_c2.append(oh_c2)\n",
    "            mfccs_x2.append(mfcc_x2)\n",
    "            lev_distances.append(lev_distance)\n",
    "        elif len(item)==4:\n",
    "            if item[2].shape[1]==len(VOCAB_DICT):\n",
    "                oh_c2,lev_distance=item[2],item[3]\n",
    "                one_hot_c2.append(oh_c2)\n",
    "                lev_distances.append(lev_distance)\n",
    "        elif len(item) == 3:\n",
    "            mfcc_x2=item[2]\n",
    "            mfccs_x2.append(mfcc_x2)\n",
    "    \n",
    "    #max_mfcc_len = batch[0].dataset.max_mfcc_len\n",
    "\n",
    "    mfccs_x1=pad_mfccs(mfccs_x1,max_mfcc_len)\n",
    "    one_hot_c1=pad_sequence(one_hot_c1, batch_first=True)\n",
    "\n",
    "    result={'view1_x1':mfccs_x1,'view2_c1':one_hot_c1}\n",
    "\n",
    "    if one_hot_c2 and lev_distances:\n",
    "        one_hot_c2=pad_sequence(one_hot_c2,batch_first=True)\n",
    "        result['view2_c2']=one_hot_c2\n",
    "        result['edit_distance']=lev_distances\n",
    "\n",
    "    if mfccs_x2:\n",
    "        mfccs_x2=pad_mfccs(mfccs_x2, max_mfcc_len)\n",
    "        result['view1_x2']=mfccs_x2\n",
    "    \n",
    "    return result \n",
    "def dev_collate_fn(batch,max_mfcc_len):\n",
    "    \n",
    "    mfccs_x1=[]\n",
    "    one_hot=[]\n",
    "    lev_scores=[]\n",
    "    one_hot_c1=[]\n",
    "    one_hot_c2=[]\n",
    "    mfccs_x2=[]\n",
    "\n",
    "    for item in batch:\n",
    "        mfcc_x1,oh,lev_score,oh_c1,oh_c2,mfcc_x2=item[0],item[1],item[2],item[3],item[4],item[5]\n",
    "        mfccs_x1.append(mfcc_x1)\n",
    "        one_hot.append(oh)\n",
    "        lev_scores.append(lev_score)\n",
    "        one_hot_c1.append(oh_c1)\n",
    "        one_hot_c2.append(oh_c2)\n",
    "        mfccs_x2.append(mfcc_x2)\n",
    "    \n",
    "    #max_mfcc_len=batch[0].dataset.max_mfcc_len\n",
    "    mfccs_x1=pad_mfccs(mfccs_x1,max_mfcc_len)\n",
    "    mfccs_x2=pad_mfccs(mfccs_x2,max_mfcc_len)\n",
    "\n",
    "    one_hot=pad_batch_sequence(one_hot)\n",
    "\n",
    "    one_hot_c1=pad_sequence(one_hot_c1,batch_first=True)\n",
    "    one_hot_c2=pad_sequence(one_hot_c2,batch_first=True)\n",
    "\n",
    "    results={\"mfcc\":mfccs_x1,\n",
    "             \"sampled_one_hot\":one_hot,\n",
    "             \"lev_scores\":torch.stack(lev_scores),\n",
    "             \"ground_truth\":one_hot_c1,\n",
    "             \"one_hot_c2\":one_hot_c2,\n",
    "             \"mfcc_x2\":mfccs_x2}\n",
    "\n",
    "    return results\n",
    "\n",
    "# Padding functions\n",
    "def pad_mfccs(mfccs, max_len):\n",
    "    padded_mfccs = []\n",
    "    for mfcc in mfccs:\n",
    "        # Padding to the right with zeros\n",
    "        pad_width = max_len - mfcc.shape[1]\n",
    "        padded_mfcc = torch.nn.functional.pad(mfcc, (0, pad_width), 'constant', 0)\n",
    "        padded_mfccs.append(padded_mfcc)\n",
    "    return torch.stack(padded_mfccs)\n",
    "\n",
    "def pad_sequence(sequences, batch_first=False, padding_value=0):\n",
    "    return torch.nn.utils.rnn.pad_sequence(sequences, batch_first=batch_first, padding_value=padding_value)\n",
    "\n",
    "def pad_batch_sequence(batch, padding_value=0):\n",
    "    padded_batch = []\n",
    "\n",
    "    max_seq_length = max(len(seq) for sequences in batch for seq in sequences)\n",
    "    max_num_sequences = max(len(sequences) for sequences in batch)\n",
    "    \n",
    "    for sequences in batch:\n",
    "        padded_sequences = [\n",
    "            torch.nn.functional.pad(torch.tensor(seq), \n",
    "                                    (0, 0, 0, max_seq_length - len(seq)), \n",
    "                                    'constant', padding_value)\n",
    "            for seq in sequences\n",
    "        ]\n",
    "        \n",
    "        padded_sequences = pad_sequence(padded_sequences, batch_first=True, padding_value=padding_value)\n",
    "        \n",
    "        if len(padded_sequences) < max_num_sequences:\n",
    "            padding = torch.full((max_num_sequences - len(padded_sequences), \n",
    "                                  max_seq_length, \n",
    "                                  padded_sequences.shape[2]), \n",
    "                                  padding_value)\n",
    "            padded_sequences = torch.cat((padded_sequences, padding), dim=0)\n",
    "        \n",
    "        padded_batch.append(padded_sequences)\n",
    "    \n",
    "    stacked_tensor = torch.stack(padded_batch)\n",
    "\n",
    "    return stacked_tensor\n",
    "\n",
    "# loaders\n",
    "def get_train_loader(csv_file,batch_size,loss_fn,max_mfcc_len):\n",
    "\n",
    "    dataset=MultiViewTrainDataset(csv_file=csv_file,loss_fn=loss_fn,max_mfcc_len=max_mfcc_len)\n",
    "\n",
    "    loader=DataLoader(dataset, batch_size=batch_size, \n",
    "                      collate_fn=lambda batch: train_collate_fn(batch, dataset.max_mfcc_len))\n",
    "\n",
    "    return loader\n",
    "\n",
    "def get_dev_loader(csv_file,batch_size,max_mfcc_len):\n",
    "    \n",
    "    dev_dataset=MultiViewDevDataset(csv_file=csv_file,max_mfcc_len=max_mfcc_len)\n",
    "\n",
    "    dev_loader=DataLoader(dev_dataset, batch_size=batch_size, \n",
    "                          collate_fn=lambda batch: dev_collate_fn(batch, dev_dataset.max_mfcc_len))\n",
    "\n",
    "    return dev_loader\n",
    "    "
   ]
  },
  {
   "cell_type": "code",
   "execution_count": 60,
   "metadata": {},
   "outputs": [],
   "source": [
    "root_path='/home/ubuntu/acoustic_stuff/hindi-acoustic-word-embedding/dataset/train_aligned_dataset'\n",
    "dev_csv='sample_bhashini_dev.csv'\n",
    "train_csv='sample_bhashini_train.csv'"
   ]
  },
  {
   "cell_type": "code",
   "execution_count": 61,
   "metadata": {},
   "outputs": [],
   "source": [
    "from utils import _load_config\n",
    "config_file=_load_config()"
   ]
  },
  {
   "cell_type": "code",
   "execution_count": 62,
   "metadata": {},
   "outputs": [],
   "source": [
    "dataset=MultiViewTrainDataset(csv_file=os.path.join(root_path,train_csv),loss_fn=config_file['loss_fn'],max_mfcc_len=config_file['max_mfcc_train'])"
   ]
  },
  {
   "cell_type": "code",
   "execution_count": 67,
   "metadata": {},
   "outputs": [],
   "source": [
    "sequences=[]\n",
    "for i in range(32):\n",
    "    word=dataset[i][1]\n",
    "    sequences.append(word)\n",
    "    "
   ]
  },
  {
   "cell_type": "code",
   "execution_count": 68,
   "metadata": {},
   "outputs": [
    {
     "data": {
      "text/plain": [
       "32"
      ]
     },
     "execution_count": 68,
     "metadata": {},
     "output_type": "execute_result"
    }
   ],
   "source": [
    "len(sequences)"
   ]
  },
  {
   "cell_type": "code",
   "execution_count": 76,
   "metadata": {},
   "outputs": [
    {
     "data": {
      "text/plain": [
       "torch.Size([4, 83])"
      ]
     },
     "execution_count": 76,
     "metadata": {},
     "output_type": "execute_result"
    }
   ],
   "source": [
    "sequences[5].shape"
   ]
  },
  {
   "cell_type": "code",
   "execution_count": 77,
   "metadata": {},
   "outputs": [],
   "source": [
    "import torch\n",
    "from torch.nn.utils.rnn import pad_sequence\n",
    "\n",
    "def pad_batch_to_fixed_length(batch, max_seq_len, padding_value=0):\n",
    "   \n",
    "    padded_sequences = []\n",
    "    for seq in batch:\n",
    "        seq_len = seq.size(0)\n",
    "        padded_seq = torch.zeros(max_seq_len, seq.size(1), dtype=torch.long)\n",
    "        padded_seq[:seq_len] = seq[:seq_len]\n",
    "        padded_sequences.append(padded_seq)\n",
    "\n",
    "    padded_batch = pad_sequence(padded_sequences, batch_first=True, padding_value=padding_value)\n",
    "\n",
    "    return padded_batch\n"
   ]
  },
  {
   "cell_type": "code",
   "execution_count": 80,
   "metadata": {},
   "outputs": [],
   "source": [
    "padded_sequences = [torch.cat([seq, torch.zeros(20 - seq.size(0), seq.size(1), device=seq.device)], dim=0) for seq in sequences]\n"
   ]
  },
  {
   "cell_type": "code",
   "execution_count": 87,
   "metadata": {},
   "outputs": [],
   "source": [
    "df=pd.read_csv(os.path.join(root_path,train_csv))\n",
    "df['length']=df['transcript'].apply(len)"
   ]
  },
  {
   "cell_type": "code",
   "execution_count": 88,
   "metadata": {},
   "outputs": [
    {
     "data": {
      "text/plain": [
       "17"
      ]
     },
     "execution_count": 88,
     "metadata": {},
     "output_type": "execute_result"
    }
   ],
   "source": [
    "max(df['length'])"
   ]
  },
  {
   "cell_type": "code",
   "execution_count": 84,
   "metadata": {},
   "outputs": [
    {
     "data": {
      "text/plain": [
       "torch.Size([20, 83])"
      ]
     },
     "execution_count": 84,
     "metadata": {},
     "output_type": "execute_result"
    }
   ],
   "source": [
    "padded_sequences[31].shape"
   ]
  },
  {
   "cell_type": "code",
   "execution_count": 85,
   "metadata": {},
   "outputs": [],
   "source": [
    "padded_batch = torch.nn.utils.rnn.pad_sequence(padded_sequences, batch_first=True)\n"
   ]
  },
  {
   "cell_type": "code",
   "execution_count": 86,
   "metadata": {},
   "outputs": [
    {
     "data": {
      "text/plain": [
       "torch.Size([32, 20, 83])"
      ]
     },
     "execution_count": 86,
     "metadata": {},
     "output_type": "execute_result"
    }
   ],
   "source": [
    "padded_batch.shape"
   ]
  },
  {
   "cell_type": "code",
   "execution_count": 55,
   "metadata": {},
   "outputs": [],
   "source": [
    "df=df.to_csv(os.path.join(root_path,train_csv))\n"
   ]
  },
  {
   "cell_type": "code",
   "execution_count": 56,
   "metadata": {},
   "outputs": [],
   "source": [
    "import pandas as pd\n",
    "import os  \n",
    "import ast \n",
    "df=pd.read_csv(os.path.join(root_path,dev_csv))"
   ]
  },
  {
   "cell_type": "code",
   "execution_count": 57,
   "metadata": {},
   "outputs": [
    {
     "data": {
      "text/plain": [
       "60"
      ]
     },
     "execution_count": 57,
     "metadata": {},
     "output_type": "execute_result"
    }
   ],
   "source": [
    "\n",
    "transcripts=df['transcript'].to_list()\n",
    "\"\"\"transcripts=[]\n",
    "for i in range(len(df)):\n",
    "    transcripts.append(ast.literal_eval(df['negative_samples'][i])[0])\"\"\"\n",
    "char_list=[]\n",
    "for trancript in transcripts:\n",
    "    char_list+=list(trancript)\n",
    "char_set=set(char_list)\n",
    "len(char_set)"
   ]
  },
  {
   "cell_type": "code",
   "execution_count": 52,
   "metadata": {},
   "outputs": [],
   "source": [
    "idx_list=[]\n",
    "for i in range(len(transcripts)):\n",
    "    if 'ऎ' in list(transcripts[i]):\n",
    "        idx_list.append(i)"
   ]
  },
  {
   "cell_type": "code",
   "execution_count": 53,
   "metadata": {},
   "outputs": [
    {
     "data": {
      "text/plain": [
       "[21890]"
      ]
     },
     "execution_count": 53,
     "metadata": {},
     "output_type": "execute_result"
    }
   ],
   "source": [
    "idx_list"
   ]
  },
  {
   "cell_type": "code",
   "execution_count": 54,
   "metadata": {},
   "outputs": [],
   "source": [
    "df=df.drop([21890]).reset_index(drop=True)"
   ]
  },
  {
   "cell_type": "code",
   "execution_count": 206,
   "metadata": {},
   "outputs": [
    {
     "data": {
      "text/plain": [
       "72132"
      ]
     },
     "execution_count": 206,
     "metadata": {},
     "output_type": "execute_result"
    }
   ],
   "source": [
    "len(df)"
   ]
  },
  {
   "cell_type": "code",
   "execution_count": 35,
   "metadata": {},
   "outputs": [
    {
     "data": {
      "text/plain": [
       "83"
      ]
     },
     "execution_count": 35,
     "metadata": {},
     "output_type": "execute_result"
    }
   ],
   "source": [
    "from utils import _load_vocab\n",
    "vocab_dict=_load_vocab()\n",
    "len(vocab_dict.keys())"
   ]
  },
  {
   "cell_type": "code",
   "execution_count": 58,
   "metadata": {},
   "outputs": [],
   "source": [
    "for char in char_set:\n",
    "    if char not in vocab_dict.keys():\n",
    "        print(char)"
   ]
  },
  {
   "cell_type": "code",
   "execution_count": 85,
   "metadata": {},
   "outputs": [
    {
     "data": {
      "text/plain": [
       "{'ओ': 0,\n",
       " 'ज़': 1,\n",
       " 'ी': 2,\n",
       " 'छ': 3,\n",
       " 'ं': 4,\n",
       " 'ज': 5,\n",
       " 'ड': 6,\n",
       " 'ऍ': 7,\n",
       " 'ो': 8,\n",
       " 'औ': 9,\n",
       " 'ऐ': 10,\n",
       " 'घ': 11,\n",
       " 'ढ': 12,\n",
       " 'ै': 13,\n",
       " 'ठ': 14,\n",
       " 'ई': 15,\n",
       " 'ि': 16,\n",
       " 'ृ': 17,\n",
       " 'ल': 18,\n",
       " 'भ': 19,\n",
       " 'ख': 20,\n",
       " 'उ': 21,\n",
       " 'ब': 22,\n",
       " 'ग': 23,\n",
       " 'क': 24,\n",
       " 'र': 25,\n",
       " 'ू': 26,\n",
       " 'इ': 27,\n",
       " 'ॠ': 28,\n",
       " 'क़': 29,\n",
       " 'प': 30,\n",
       " 'ौ': 31,\n",
       " 'ॉ': 32,\n",
       " '़': 33,\n",
       " 'ऋ': 34,\n",
       " '|': 35,\n",
       " 'ँ': 36,\n",
       " 'ग़': 37,\n",
       " 'े': 38,\n",
       " 'फ': 39,\n",
       " 'ट': 40,\n",
       " 'त': 41,\n",
       " 'ह': 42,\n",
       " 'ः': 43,\n",
       " 'द': 44,\n",
       " 'ए': 45,\n",
       " 'ष': 46,\n",
       " 'य': 47,\n",
       " 'च': 48,\n",
       " 'व': 49,\n",
       " 'ध': 50,\n",
       " 'म': 51,\n",
       " 'थ': 52,\n",
       " 'ा': 53,\n",
       " 'ड़': 54,\n",
       " 'ऑ': 55,\n",
       " 'स': 56,\n",
       " 'ञ': 57,\n",
       " 'ढ़': 58,\n",
       " 'न': 59,\n",
       " 'ण': 60,\n",
       " 'आ': 61,\n",
       " 'झ': 62,\n",
       " 'ऊ': 63,\n",
       " '्': 64,\n",
       " 'ु': 65,\n",
       " 'फ़': 66,\n",
       " 'श': 67,\n",
       " 'अ': 68,\n",
       " 'ख़': 69,\n",
       " '1': 70,\n",
       " '5': 71,\n",
       " '2': 72,\n",
       " '8': 73,\n",
       " '3': 74,\n",
       " '6': 75,\n",
       " '7': 76,\n",
       " '0': 77,\n",
       " '9': 78,\n",
       " '4': 79,\n",
       " 'ॅ': 80,\n",
       " 'ङ': 81,\n",
       " 'य़': 82}"
      ]
     },
     "execution_count": 85,
     "metadata": {},
     "output_type": "execute_result"
    }
   ],
   "source": [
    "vocab_dict"
   ]
  },
  {
   "cell_type": "code",
   "execution_count": 68,
   "metadata": {},
   "outputs": [],
   "source": [
    "from utils import _load_config\n",
    "config_file=_load_config()"
   ]
  },
  {
   "cell_type": "code",
   "execution_count": 71,
   "metadata": {},
   "outputs": [],
   "source": [
    "dataset=MultiViewDevDataset(csv_file=os.path.join(root_path,dev_csv),max_mfcc_len=config_file['max_mfcc_train'])"
   ]
  },
  {
   "cell_type": "code",
   "execution_count": 75,
   "metadata": {},
   "outputs": [
    {
     "data": {
      "text/plain": [
       "numpy.ndarray"
      ]
     },
     "execution_count": 75,
     "metadata": {},
     "output_type": "execute_result"
    }
   ],
   "source": [
    "type(dataset[0][5])"
   ]
  },
  {
   "cell_type": "code",
   "execution_count": 48,
   "metadata": {},
   "outputs": [
    {
     "data": {
      "text/plain": [
       "192"
      ]
     },
     "execution_count": 48,
     "metadata": {},
     "output_type": "execute_result"
    }
   ],
   "source": [
    "dataset.max_mfcc_len"
   ]
  },
  {
   "cell_type": "code",
   "execution_count": 78,
   "metadata": {},
   "outputs": [],
   "source": [
    "dev_loader=get_dev_loader(os.path.join(root_path,dev_csv),batch_size=config_file['dev_batch_size'],max_mfcc_len=config_file['max_mfcc_train'])"
   ]
  },
  {
   "cell_type": "code",
   "execution_count": 79,
   "metadata": {},
   "outputs": [
    {
     "name": "stderr",
     "output_type": "stream",
     "text": [
      "/tmp/ipykernel_635904/1498736576.py:274: UserWarning: To copy construct from a tensor, it is recommended to use sourceTensor.clone().detach() or sourceTensor.clone().detach().requires_grad_(True), rather than torch.tensor(sourceTensor).\n",
      "  torch.nn.functional.pad(torch.tensor(seq),\n"
     ]
    }
   ],
   "source": [
    "batch=next(iter(dev_loader))\n"
   ]
  },
  {
   "cell_type": "code",
   "execution_count": 80,
   "metadata": {},
   "outputs": [
    {
     "data": {
      "text/plain": [
       "dict_keys(['mfcc', 'sampled_one_hot', 'lev_scores', 'ground_truth', 'one_hot_c2', 'mfcc_x2'])"
      ]
     },
     "execution_count": 80,
     "metadata": {},
     "output_type": "execute_result"
    }
   ],
   "source": [
    "batch.keys()"
   ]
  },
  {
   "cell_type": "code",
   "execution_count": 13,
   "metadata": {},
   "outputs": [
    {
     "name": "stderr",
     "output_type": "stream",
     "text": [
      "Computing MFCC lengths: 100%|██████████| 5000/5000 [02:28<00:00, 33.77it/s]"
     ]
    },
    {
     "name": "stdout",
     "output_type": "stream",
     "text": [
      "Max MFCC length: 187\n",
      "148.38663363456726\n"
     ]
    },
    {
     "name": "stderr",
     "output_type": "stream",
     "text": [
      "\n"
     ]
    }
   ],
   "source": [
    "import time \n",
    "start=time.time()\n",
    "train_data=MultiViewTrainDataset(os.path.join(root_path,train_csv),loss_fn=config_file['loss_fn'])\n",
    "end=time.time()\n",
    "\n",
    "print(end-start)"
   ]
  },
  {
   "cell_type": "code",
   "execution_count": 20,
   "metadata": {},
   "outputs": [
    {
     "name": "stdout",
     "output_type": "stream",
     "text": [
      "41.520493507385254\n"
     ]
    }
   ],
   "source": [
    "start=time.time()\n",
    "dev_data=MultiViewDevDataset(os.path.join(root_path,dev_csv))\n",
    "end=time.time()\n",
    "\n",
    "print(end-start)"
   ]
  },
  {
   "cell_type": "code",
   "execution_count": 33,
   "metadata": {},
   "outputs": [],
   "source": [
    "import ray\n",
    "import pandas as pd\n",
    "import numpy as np\n",
    "import librosa\n",
    "import os\n",
    "from tqdm import tqdm\n",
    "from utils import _load_config\n",
    "import json \n",
    "\n",
    "config_file=_load_config()\n",
    "\n",
    "if ray.is_initialized():\n",
    "    ray.shutdown()\n",
    "ray.init()\n",
    "\n",
    "@ray.remote\n",
    "def compute_mfcc(audio_path, n_mfcc=13):\n",
    "    try:\n",
    "        y, sr = librosa.load(audio_path)\n",
    "        n_fft = min(2048, len(y))\n",
    "        hop_length = n_fft // 4\n",
    "        \n",
    "        mfccs = librosa.feature.mfcc(y=y, sr=sr,\n",
    "                                     n_mfcc=n_mfcc,\n",
    "                                     n_fft=n_fft,\n",
    "                                     hop_length=hop_length)\n",
    "        \n",
    "        width = min(9, mfccs.shape[1])\n",
    "        if width < 3:\n",
    "            width = 3\n",
    "        \n",
    "        width = min(width, mfccs.shape[1])\n",
    "        \n",
    "        if width % 2 == 0:\n",
    "            width -= 1\n",
    "        \n",
    "        delta1 = librosa.feature.delta(mfccs, order=1, width=width)\n",
    "        delta2 = librosa.feature.delta(mfccs, order=2, width=width)\n",
    "        \n",
    "        mfccs_combined = np.concatenate((mfccs, delta1, delta2), axis=0)\n",
    "        return mfccs_combined.shape[1]\n",
    "    except Exception as e:\n",
    "        print(f\"Error processing {audio_path}: {str(e)}\")\n",
    "        return 0    \n",
    "   \n",
    "def get_max_mfcc_length(dataset_path, n_mfcc=13, batch_size=8000,flag=\"dev\"):\n",
    "    df = pd.read_csv(dataset_path)\n",
    "    dir_path = os.path.dirname(dataset_path)\n",
    "    \n",
    "    audio_paths = [os.path.join(dir_path, str(path)) for path in df[\"audio_path\"]]\n",
    "    \n",
    "    max_len = 0\n",
    "    num_batches = len(audio_paths) // batch_size + (1 if len(audio_paths) % batch_size != 0 else 0)\n",
    "    \n",
    "    for i in tqdm(range(num_batches), desc=\"Processing batches\"):\n",
    "        start_idx = i * batch_size\n",
    "        end_idx = min((i + 1) * batch_size, len(audio_paths))\n",
    "        batch_paths = audio_paths[start_idx:end_idx]\n",
    "        \n",
    "        mfcc_length_ids = [compute_mfcc.remote(path, n_mfcc) for path in batch_paths]\n",
    "        mfcc_lengths = ray.get(mfcc_length_ids)\n",
    "        \n",
    "        batch_max = max(mfcc_lengths)\n",
    "        max_len = max(max_len, batch_max)\n",
    "    \n",
    "    print(f\"Max MFCC length: {max_len}\")\n",
    "\n",
    "    if flag==\"train\":\n",
    "        config_file[\"max_mfcc_train\"]=max_len\n",
    "    else:\n",
    "        config_file[\"max_mfcc_dev\"]=max_len\n",
    "    \n",
    "    with open(\"config.json\", 'w') as json_file:\n",
    "        json.dump(config_file, json_file,indent=4)\n",
    "\n",
    "\n",
    "    return max_len\n",
    "\n",
    "\n",
    "ray.shutdown()"
   ]
  },
  {
   "cell_type": "code",
   "execution_count": 34,
   "metadata": {},
   "outputs": [
    {
     "name": "stderr",
     "output_type": "stream",
     "text": [
      "Processing batches:   0%|          | 0/2 [00:00<?, ?it/s]"
     ]
    },
    {
     "name": "stderr",
     "output_type": "stream",
     "text": [
      "2024-07-10 11:24:00,652\tINFO worker.py:1762 -- Started a local Ray instance. View the dashboard at \u001b[1m\u001b[32mhttp://127.0.0.1:8266 \u001b[39m\u001b[22m\n",
      "Processing batches: 100%|██████████| 2/2 [00:12<00:00,  6.17s/it]"
     ]
    },
    {
     "name": "stdout",
     "output_type": "stream",
     "text": [
      "Max MFCC length: 194\n",
      "12.46628737449646\n"
     ]
    },
    {
     "name": "stderr",
     "output_type": "stream",
     "text": [
      "\n"
     ]
    }
   ],
   "source": [
    "start=time.time()\n",
    "max_len=get_max_mfcc_length(os.path.join(root_path,dev_csv),flag=\"dev\")\n",
    "end=time.time()\n",
    "print(end-start)\n",
    "\n"
   ]
  },
  {
   "cell_type": "code",
   "execution_count": 1,
   "metadata": {},
   "outputs": [],
   "source": [
    "import pandas as pd \n",
    "df=pd.read_csv('/home/ubuntu/acoustic_stuff/hindi-acoustic-word-embedding/dataset/train_aligned_dataset/bhashini_sampled.csv')"
   ]
  },
  {
   "cell_type": "code",
   "execution_count": 2,
   "metadata": {},
   "outputs": [
    {
     "data": {
      "text/plain": [
       "32174"
      ]
     },
     "execution_count": 2,
     "metadata": {},
     "output_type": "execute_result"
    }
   ],
   "source": [
    "len(df)"
   ]
  },
  {
   "cell_type": "code",
   "execution_count": 3,
   "metadata": {},
   "outputs": [],
   "source": [
    "df=df.drop_duplicates()"
   ]
  },
  {
   "cell_type": "code",
   "execution_count": 4,
   "metadata": {},
   "outputs": [
    {
     "data": {
      "text/plain": [
       "32174"
      ]
     },
     "execution_count": 4,
     "metadata": {},
     "output_type": "execute_result"
    }
   ],
   "source": [
    "len(df)"
   ]
  },
  {
   "cell_type": "code",
   "execution_count": 5,
   "metadata": {},
   "outputs": [],
   "source": [
    "from sklearn.model_selection import train_test_split\n",
    "\n",
    "train_df,dev_df=train_test_split(df,test_size=0.2,random_state=42)"
   ]
  },
  {
   "cell_type": "code",
   "execution_count": 6,
   "metadata": {},
   "outputs": [
    {
     "data": {
      "text/plain": [
       "25739"
      ]
     },
     "execution_count": 6,
     "metadata": {},
     "output_type": "execute_result"
    }
   ],
   "source": [
    "len(train_df)"
   ]
  },
  {
   "cell_type": "code",
   "execution_count": 8,
   "metadata": {},
   "outputs": [
    {
     "data": {
      "text/plain": [
       "6435"
      ]
     },
     "execution_count": 8,
     "metadata": {},
     "output_type": "execute_result"
    }
   ],
   "source": [
    "len(dev_df)"
   ]
  },
  {
   "cell_type": "code",
   "execution_count": 10,
   "metadata": {},
   "outputs": [],
   "source": [
    "import os \n",
    "train_df.to_csv(os.path.join(root_path,'sample_bhashini_train.csv'))\n",
    "dev_df.to_csv(os.path.join(root_path,'sample_bhashini_dev.csv'))"
   ]
  },
  {
   "cell_type": "code",
   "execution_count": 23,
   "metadata": {},
   "outputs": [
    {
     "data": {
      "image/png": "[encoded data removed]",
      "text/plain": [
       "<Figure size 640x480 with 1 Axes>"
      ]
     },
     "metadata": {},
     "output_type": "display_data"
    }
   ],
   "source": [
    "import matplotlib.pyplot as plt\n",
    "import torch\n",
    "import torch.nn as nn\n",
    "import torch.optim as optim\n",
    "from torch.optim.lr_scheduler import CosineAnnealingLR, LinearLR\n",
    "\n",
    "# Define the model and optimizer\n",
    "model = torch.nn.Sequential(\n",
    "    torch.nn.Linear(10, 10),\n",
    "    torch.nn.ReLU(),\n",
    "    torch.nn.Linear(10, 1),\n",
    ")\n",
    "optimizer = optim.AdamW(model.parameters(), lr=0.01)\n",
    "\n",
    "# Define the number of warmup steps and the maximum learning rate\n",
    "warmup_steps = 100\n",
    "max_lr = 0.05\n",
    "step=0\n",
    "\n",
    "# Define the warmup scheduler\n",
    "warmup_scheduler = LinearLR(optimizer, start_factor=0.001, total_iters=warmup_steps)\n",
    "\n",
    "# Define the cosine annealing scheduler\n",
    "#cosine_scheduler = CosineAnnealingLR(optimizer, T_max=20*100-warmup_steps, eta_min=0)\n",
    "\n",
    "# Define the lambda function that returns the learning rate based on the current epoch\n",
    "def get_lr(epoch):\n",
    "    if epoch < warmup_steps:\n",
    "        return warmup_scheduler.get_lr()[0]\n",
    "    else:\n",
    "        #return cosine_scheduler.get_lr()[0]\n",
    "        pass \n",
    "\n",
    "# Define the number of epochs and the learning rate list\n",
    "num_epochs = 20\n",
    "lr_list = []\n",
    "\n",
    "# Loop over the epochs\n",
    "for epoch in range(num_epochs):\n",
    "\n",
    "    # Update the learning rate\n",
    "    lr = get_lr(epoch)\n",
    "    lr_list.append(lr)\n",
    "    for param_group in optimizer.param_groups:\n",
    "        param_group['lr'] = lr\n",
    "\n",
    "    # Loop over the \"spochs\" (sub-epochs)\n",
    "    num_spochs = 100\n",
    "    for spoch in range(num_spochs):\n",
    "\n",
    "        # Forward pass\n",
    "        inputs = torch.randn(10, 10)\n",
    "        outputs = model(inputs)\n",
    "        targets = torch.randn(10, 1)\n",
    "        loss = nn.MSELoss()(outputs, targets)\n",
    "\n",
    "        # Backward pass and optimization step\n",
    "        optimizer.zero_grad()\n",
    "        loss.backward()\n",
    "        optimizer.step()\n",
    "\n",
    "        step+=1\n",
    "    \n",
    "    \n",
    "    #warmup_scheduler.step()\n",
    "    \n",
    "\n",
    "# Plot the learning rate using matplotlib\n",
    "plt.plot(lr_list)\n",
    "plt.xlabel('Epoch')\n",
    "plt.ylabel('Learning rate')\n",
    "plt.title('Learning rate vs. epoch')\n",
    "plt.show()\n"
   ]
  },
  {
   "cell_type": "code",
   "execution_count": 24,
   "metadata": {},
   "outputs": [],
   "source": [
    "import math \n",
    "class CosineScheduler:\n",
    "    def __init__(self, max_update, base_lr=0.01, final_lr=0,\n",
    "               warmup_steps=0, warmup_begin_lr=0):\n",
    "        self.base_lr_orig = base_lr\n",
    "        self.max_update = max_update\n",
    "        self.final_lr = final_lr\n",
    "        self.warmup_steps = warmup_steps\n",
    "        self.warmup_begin_lr = warmup_begin_lr\n",
    "        self.max_steps = self.max_update - self.warmup_steps\n",
    "\n",
    "    def get_warmup_lr(self, epoch):\n",
    "        increase = (self.base_lr_orig - self.warmup_begin_lr) \\\n",
    "                       * float(epoch) / float(self.warmup_steps)\n",
    "        return self.warmup_begin_lr + increase\n",
    "\n",
    "    def __call__(self, epoch):\n",
    "        if epoch < self.warmup_steps:\n",
    "            return self.get_warmup_lr(epoch)\n",
    "        if epoch <= self.max_update:\n",
    "            self.base_lr = self.final_lr + (\n",
    "                self.base_lr_orig - self.final_lr) * (1 + math.cos(\n",
    "                math.pi * (epoch - self.warmup_steps) / self.max_steps)) / 2\n",
    "        return self.base_lr"
   ]
  },
  {
   "cell_type": "code",
   "execution_count": 26,
   "metadata": {},
   "outputs": [],
   "source": [
    "import torch \n",
    "import torch.nn as nn\n",
    "import torch.optim as optim \n",
    "\n",
    "import pytorch_warmup as warmup\n",
    "\n",
    "import matplotlib.pyplot as plt "
   ]
  },
  {
   "cell_type": "code",
   "execution_count": null,
   "metadata": {},
   "outputs": [],
   "source": []
  }
 ],
 "metadata": {
  "kernelspec": {
   "display_name": "venv",
   "language": "python",
   "name": "python3"
  },
  "language_info": {
   "codemirror_mode": {
    "name": "ipython",
    "version": 3
   },
   "file_extension": ".py",
   "mimetype": "text/x-python",
   "name": "python",
   "nbconvert_exporter": "python",
   "pygments_lexer": "ipython3",
   "version": "3.11.7"
  }
 },
 "nbformat": 4,
 "nbformat_minor": 2
}
